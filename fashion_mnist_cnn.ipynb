{
  "cells": [
    {
      "cell_type": "markdown",
      "metadata": {
        "id": "view-in-github",
        "colab_type": "text"
      },
      "source": [
        "<a href=\"https://colab.research.google.com/github/xymeo/fashion-mnist-cnn/blob/main/fashion_mnist_cnn.ipynb\" target=\"_parent\"><img src=\"https://colab.research.google.com/assets/colab-badge.svg\" alt=\"Open In Colab\"/></a>"
      ]
    },
    {
      "cell_type": "markdown",
      "metadata": {
        "id": "XrzyUiG564K-"
      },
      "source": [
        "The goal of this project is to compare the accuracy of recognizing objects from the Fashion MNIST dataset. \n",
        "\n",
        "The loss generated per epoch, and training and validation accuracies are discussed.\n"
      ]
    },
    {
      "cell_type": "code",
      "execution_count": 1,
      "metadata": {
        "id": "4iAY5jeA2gkk"
      },
      "outputs": [],
      "source": [
        "import torch\n",
        "import torch.nn as nn\n",
        "import torch.nn.functional as F\n",
        "import torch.optim as optim\n",
        "import torchvision\n",
        "import torchvision.transforms as transforms\n",
        "import torchvision.datasets as datasets\n",
        "import matplotlib.pyplot as plt\n",
        "import numpy as np\n",
        "\n",
        "from tqdm import tqdm\n",
        "from torch.utils.data import DataLoader\n",
        "from torch.optim.lr_scheduler import StepLR"
      ]
    },
    {
      "cell_type": "markdown",
      "metadata": {
        "id": "OzcjjwWZCKHH"
      },
      "source": [
        "# The Dataset\n",
        "\n",
        "We create the transforms for training and validation, create training and validation datasets, and Dataloaders. "
      ]
    },
    {
      "cell_type": "code",
      "execution_count": 15,
      "metadata": {
        "id": "WsyarN_M2kjo"
      },
      "outputs": [],
      "source": [
        "batch_size = 64\n",
        "transform_training = transforms.Compose([\n",
        "                                        transforms.RandomAffine(degrees=(20),\n",
        "                                                                translate=(0.1, 0.1), \n",
        "                                                                scale=(0.8, 1.2)),\n",
        "                                        transforms.RandomHorizontalFlip(),\n",
        "                                        # transforms.RandomVerticalFlip(),\n",
        "                                        transforms.ToTensor(),\n",
        "                                        transforms.Normalize((0.5), (0.5)),\n",
        "                                        ])\n",
        "transform_validation = transforms.Compose([\n",
        "                                        transforms.ToTensor(),\n",
        "                                        transforms.Normalize((0.5), (0.5)),\n",
        "                                        ])\n",
        "training_set = datasets.FashionMNIST(root=\"data\", train=True, download=True, transform=transform_training)\n",
        "validation_set = datasets.FashionMNIST(root=\"data\", train=False, download=True, transform=transform_validation)\n"
      ]
    },
    {
      "cell_type": "code",
      "execution_count": 18,
      "metadata": {
        "id": "TbR9Nz4PCcjr"
      },
      "outputs": [],
      "source": [
        "train_loader = DataLoader(training_set, batch_size=batch_size, shuffle=True)\n",
        "test_loader = DataLoader(validation_set, batch_size=batch_size)"
      ]
    },
    {
      "cell_type": "markdown",
      "metadata": {
        "id": "AEezE4EsCal3"
      },
      "source": [
        "### Visualizing the data and associated labels "
      ]
    },
    {
      "cell_type": "code",
      "execution_count": 19,
      "metadata": {
        "id": "OFVj1Muve9qK"
      },
      "outputs": [],
      "source": [
        "labels = dict(zip(np.arange(10),\n",
        "                  ['T-shirt/top',\n",
        "                   'Trouser',\n",
        "                   'Pullover',\n",
        "                   'Dress',\n",
        "                   'Coat',\n",
        "                   'Sandal',\n",
        "                   'Shirt',\n",
        "                   'Sneaker',\n",
        "                   'Bag',\n",
        "                   'Ankle Boot']))"
      ]
    },
    {
      "cell_type": "code",
      "execution_count": 20,
      "metadata": {
        "colab": {
          "base_uri": "https://localhost:8080/",
          "height": 318
        },
        "id": "sFevYHiw6jc9",
        "outputId": "2b7d2090-0548-4d79-f48f-3bddbb5d1fcc"
      },
      "outputs": [
        {
          "output_type": "display_data",
          "data": {
            "text/plain": [
              "<Figure size 720x360 with 6 Axes>"
            ],
            "image/png": "[encoded data removed]"
          },
          "metadata": {
            "needs_background": "light"
          }
        }
      ],
      "source": [
        "figure = plt.figure(figsize=(10, 5))\n",
        "cols, rows = 3, 2\n",
        "for i in range(1, cols * rows + 1):\n",
        "    sample_idx = torch.randint(len(training_set), size=(1,)).item()\n",
        "    img, label = training_set[sample_idx]\n",
        "    figure.add_subplot(rows, cols, i)\n",
        "    plt.title(labels[label])\n",
        "    plt.axis(\"off\")\n",
        "    plt.imshow(img.squeeze(), cmap=\"gray\")\n",
        "plt.show()"
      ]
    },
    {
      "cell_type": "code",
      "source": [
        "torch.cuda.is_available()\n",
        "def get_default_device():\n",
        "    \"\"\"Pick GPU if available, else CPU\"\"\"\n",
        "    if torch.cuda.is_available():\n",
        "        return torch.device('cuda')\n",
        "    else:\n",
        "        return torch.device('cpu')\n",
        "device = get_default_device()\n",
        "device"
      ],
      "metadata": {
        "colab": {
          "base_uri": "https://localhost:8080/"
        },
        "id": "ft4o-g8Tc7H7",
        "outputId": "64706bba-4384-438c-9566-d0e7fe371841"
      },
      "execution_count": 21,
      "outputs": [
        {
          "output_type": "execute_result",
          "data": {
            "text/plain": [
              "device(type='cuda')"
            ]
          },
          "metadata": {},
          "execution_count": 21
        }
      ]
    },
    {
      "cell_type": "markdown",
      "metadata": {
        "id": "WMuZ3RQQC-p5"
      },
      "source": [
        "# Creating Models\n",
        "\n"
      ]
    },
    {
      "cell_type": "markdown",
      "metadata": {
        "id": "WQK3_pBVrd7t"
      },
      "source": [
        "### Defining the Convolutional Neural Network (CNN)"
      ]
    },
    {
      "cell_type": "code",
      "execution_count": 62,
      "metadata": {
        "colab": {
          "base_uri": "https://localhost:8080/"
        },
        "id": "eJpT4Alg8aC5",
        "outputId": "b98aa183-9535-4def-9f76-3802592b2066"
      },
      "outputs": [
        {
          "output_type": "execute_result",
          "data": {
            "text/plain": [
              "CNN(\n",
              "  (conv_block): Sequential(\n",
              "    (0): Conv2d(1, 16, kernel_size=(3, 3), stride=(1, 1), padding=(2, 2))\n",
              "    (1): BatchNorm2d(16, eps=1e-05, momentum=0.1, affine=True, track_running_stats=True)\n",
              "    (2): MaxPool2d(kernel_size=2, stride=2, padding=0, dilation=1, ceil_mode=False)\n",
              "    (3): ReLU()\n",
              "    (4): Dropout(p=0.2, inplace=False)\n",
              "    (5): Conv2d(16, 32, kernel_size=(3, 3), stride=(1, 1), padding=(2, 2))\n",
              "    (6): BatchNorm2d(32, eps=1e-05, momentum=0.1, affine=True, track_running_stats=True)\n",
              "    (7): MaxPool2d(kernel_size=2, stride=2, padding=0, dilation=1, ceil_mode=False)\n",
              "    (8): ReLU()\n",
              "  )\n",
              "  (fc1): Linear(in_features=2048, out_features=1024, bias=True)\n",
              "  (fc2): Linear(in_features=1024, out_features=10, bias=True)\n",
              ")"
            ]
          },
          "metadata": {},
          "execution_count": 62
        }
      ],
      "source": [
        "class CNN(nn.Module):\n",
        "  def __init__(self):\n",
        "    \n",
        "    super().__init__()\n",
        "    \n",
        "    self.conv_block = nn.Sequential(\n",
        "      # 1st Conv Block \n",
        "      nn.Conv2d(in_channels=1,              \n",
        "                out_channels=16,            \n",
        "                kernel_size=3,              \n",
        "                stride=1,                   \n",
        "                padding=2),\n",
        "      nn.BatchNorm2d(16),\n",
        "      nn.MaxPool2d(2, 2),\n",
        "      nn.ReLU(),\n",
        "      nn.Dropout(0.2),\n",
        "\n",
        "      # 2nd Conv Block \n",
        "      nn.Conv2d(in_channels=16, \n",
        "                out_channels=32, \n",
        "                kernel_size=3, \n",
        "                stride=1,                   \n",
        "                padding=2),\n",
        "      nn.BatchNorm2d(32),\n",
        "      nn.MaxPool2d(2, 2),\n",
        "      nn.ReLU())\n",
        "  \n",
        "    self.activation = F.relu\n",
        "    self.fc1 = nn.Linear(2048, 1024)\n",
        "    self.fc2 = nn.Linear(1024, 10)\n",
        "\n",
        "      \n",
        "    \n",
        "  def forward(self,x): \n",
        "    x = self.conv_block(x)\n",
        "    x = torch.flatten(x,1)\n",
        "    x = self.activation(self.fc1(x))\n",
        "    x = self.fc2(x)\n",
        "    return x\n",
        "\n",
        "\n",
        "cnn = CNN() \n",
        "cnn\n"
      ]
    },
    {
      "cell_type": "markdown",
      "metadata": {
        "id": "Vz8NDYfwFiTx"
      },
      "source": [
        "### Defining Loss Function and Learning Rate"
      ]
    },
    {
      "cell_type": "code",
      "execution_count": 76,
      "metadata": {
        "id": "tsdzOQrbFPS-"
      },
      "outputs": [],
      "source": [
        "loss_function = nn.CrossEntropyLoss()\n",
        "learning_rate = 0.001"
      ]
    },
    {
      "cell_type": "markdown",
      "metadata": {
        "id": "jnoHfxCaGHIP"
      },
      "source": [
        "# Training the Model "
      ]
    },
    {
      "cell_type": "code",
      "execution_count": 63,
      "metadata": {
        "id": "jVmKfHYVGAIo"
      },
      "outputs": [],
      "source": [
        "def training_loop(model, learning_rate, num_epochs=5):\n",
        "\n",
        "  training_loss_history, val_loss_history = [], []\n",
        "  training_acc_history, val_acc_history = [], []\n",
        "\n",
        "  # defining the Optimizer \n",
        "  optimizer = optim.Adam(model.parameters(), lr=learning_rate)\n",
        "\n",
        "  if torch.cuda.is_available():\n",
        "    model = model.cuda() # Enable GPU \n",
        "  for epoch in range(num_epochs):\n",
        "      model.train()\n",
        "      train_loss = 0.0\n",
        "      train_correct = 0 # Number of correct predictions in training set\n",
        "      training_acc = 0.0\n",
        "      \n",
        "      for i, data in enumerate(tqdm(train_loader)):\n",
        "          inputs, labels = data\n",
        "          if torch.cuda.is_available():  # Enable GPU if available\n",
        "              inputs, labels = inputs.cuda(), labels.cuda()\n",
        "              \n",
        "          optimizer.zero_grad() # Set gradients of all weights to 0 \n",
        "          outputs = model(inputs) # Get the output \n",
        "          loss = loss_function(outputs, labels) # Calculate loss agains labels \n",
        "          loss.backward() # Calculate dloss/dx for parameters x \n",
        "          optimizer.step() # Parameter update\n",
        "\n",
        "          _, preds = torch.max(outputs.data, 1)\n",
        "          train_correct += (preds == labels).sum().item()\n",
        "          train_loss += loss.item()\n",
        "        \n",
        "      training_acc = train_correct * 100 /len(training_set)\n",
        "      print(f'Epoch {epoch + 1} training accuracy: {training_acc:.2f}% training loss: {train_loss/len(training_set):.5f}')\n",
        "      training_loss_history.append(train_loss/len(training_set))\n",
        "      training_acc_history.append(training_acc)\n",
        "\n",
        "      val_loss = 0.0\n",
        "      val_correct = 0 # Number of correct predictions in training set\n",
        "      validation_acc = 0.0\n",
        "      with torch.no_grad():\n",
        "        model.eval()\n",
        "        for inputs, labels in test_loader:\n",
        "            if torch.cuda.is_available():\n",
        "                inputs, labels = inputs.cuda(), labels.cuda()\n",
        "            outputs = model(inputs) # Get output\n",
        "            loss = loss_function(outputs, labels) \n",
        "\n",
        "            _, preds = torch.max(outputs.data, 1)\n",
        "            val_correct += (preds == labels).sum().item()\n",
        "            val_loss += loss.item()\n",
        "      \n",
        "      validation_acc = val_correct * 100 /len(validation_set)\n",
        "      print(f'Epoch {epoch + 1} validation accuracy: {validation_acc:.2f}% validation loss: {val_loss/len(validation_set):.5f}')\n",
        "      val_loss_history.append(val_loss/len(validation_set))\n",
        "      val_acc_history.append(validation_acc)\n",
        "\n",
        "  return training_loss_history, val_loss_history, training_acc_history, val_acc_history"
      ]
    },
    {
      "cell_type": "markdown",
      "metadata": {
        "id": "G06jzYITi62X"
      },
      "source": [
        "### Training on CNN "
      ]
    },
    {
      "cell_type": "code",
      "execution_count": 67,
      "metadata": {
        "colab": {
          "base_uri": "https://localhost:8080/"
        },
        "id": "neSkxALyftj6",
        "outputId": "17f7a78e-057c-49a1-dc60-1a3b645d4f51"
      },
      "outputs": [
        {
          "output_type": "stream",
          "name": "stderr",
          "text": [
            "100%|██████████| 938/938 [00:22<00:00, 42.16it/s]\n"
          ]
        },
        {
          "output_type": "stream",
          "name": "stdout",
          "text": [
            "Epoch 1 training accuracy: 80.82% training loss: 0.00785\n",
            "Epoch 1 validation accuracy: 82.70% validation loss: 0.00724\n"
          ]
        },
        {
          "output_type": "stream",
          "name": "stderr",
          "text": [
            "100%|██████████| 938/938 [00:22<00:00, 42.08it/s]\n"
          ]
        },
        {
          "output_type": "stream",
          "name": "stdout",
          "text": [
            "Epoch 2 training accuracy: 82.32% training loss: 0.00732\n",
            "Epoch 2 validation accuracy: 85.89% validation loss: 0.00609\n"
          ]
        },
        {
          "output_type": "stream",
          "name": "stderr",
          "text": [
            "100%|██████████| 938/938 [00:21<00:00, 43.93it/s]\n"
          ]
        },
        {
          "output_type": "stream",
          "name": "stdout",
          "text": [
            "Epoch 3 training accuracy: 83.11% training loss: 0.00700\n",
            "Epoch 3 validation accuracy: 86.15% validation loss: 0.00590\n"
          ]
        },
        {
          "output_type": "stream",
          "name": "stderr",
          "text": [
            "100%|██████████| 938/938 [00:21<00:00, 43.50it/s]\n"
          ]
        },
        {
          "output_type": "stream",
          "name": "stdout",
          "text": [
            "Epoch 4 training accuracy: 83.61% training loss: 0.00678\n",
            "Epoch 4 validation accuracy: 87.58% validation loss: 0.00527\n"
          ]
        },
        {
          "output_type": "stream",
          "name": "stderr",
          "text": [
            "100%|██████████| 938/938 [00:21<00:00, 43.74it/s]\n"
          ]
        },
        {
          "output_type": "stream",
          "name": "stdout",
          "text": [
            "Epoch 5 training accuracy: 84.12% training loss: 0.00655\n",
            "Epoch 5 validation accuracy: 86.72% validation loss: 0.00580\n"
          ]
        },
        {
          "output_type": "stream",
          "name": "stderr",
          "text": [
            "100%|██████████| 938/938 [00:21<00:00, 43.76it/s]\n"
          ]
        },
        {
          "output_type": "stream",
          "name": "stdout",
          "text": [
            "Epoch 6 training accuracy: 84.79% training loss: 0.00634\n",
            "Epoch 6 validation accuracy: 87.69% validation loss: 0.00510\n"
          ]
        },
        {
          "output_type": "stream",
          "name": "stderr",
          "text": [
            "100%|██████████| 938/938 [00:22<00:00, 41.99it/s]\n"
          ]
        },
        {
          "output_type": "stream",
          "name": "stdout",
          "text": [
            "Epoch 7 training accuracy: 85.06% training loss: 0.00623\n",
            "Epoch 7 validation accuracy: 87.60% validation loss: 0.00540\n"
          ]
        },
        {
          "output_type": "stream",
          "name": "stderr",
          "text": [
            "100%|██████████| 938/938 [00:21<00:00, 42.93it/s]\n"
          ]
        },
        {
          "output_type": "stream",
          "name": "stdout",
          "text": [
            "Epoch 8 training accuracy: 85.22% training loss: 0.00608\n",
            "Epoch 8 validation accuracy: 87.37% validation loss: 0.00550\n"
          ]
        },
        {
          "output_type": "stream",
          "name": "stderr",
          "text": [
            "100%|██████████| 938/938 [00:21<00:00, 42.88it/s]\n"
          ]
        },
        {
          "output_type": "stream",
          "name": "stdout",
          "text": [
            "Epoch 9 training accuracy: 85.56% training loss: 0.00596\n",
            "Epoch 9 validation accuracy: 88.75% validation loss: 0.00483\n"
          ]
        },
        {
          "output_type": "stream",
          "name": "stderr",
          "text": [
            "100%|██████████| 938/938 [00:21<00:00, 43.01it/s]\n"
          ]
        },
        {
          "output_type": "stream",
          "name": "stdout",
          "text": [
            "Epoch 10 training accuracy: 85.81% training loss: 0.00591\n",
            "Epoch 10 validation accuracy: 88.84% validation loss: 0.00482\n"
          ]
        },
        {
          "output_type": "stream",
          "name": "stderr",
          "text": [
            "100%|██████████| 938/938 [00:21<00:00, 42.93it/s]\n"
          ]
        },
        {
          "output_type": "stream",
          "name": "stdout",
          "text": [
            "Epoch 11 training accuracy: 86.12% training loss: 0.00577\n",
            "Epoch 11 validation accuracy: 88.81% validation loss: 0.00476\n"
          ]
        },
        {
          "output_type": "stream",
          "name": "stderr",
          "text": [
            "100%|██████████| 938/938 [00:22<00:00, 41.89it/s]\n"
          ]
        },
        {
          "output_type": "stream",
          "name": "stdout",
          "text": [
            "Epoch 12 training accuracy: 86.45% training loss: 0.00566\n",
            "Epoch 12 validation accuracy: 89.54% validation loss: 0.00456\n"
          ]
        },
        {
          "output_type": "stream",
          "name": "stderr",
          "text": [
            "100%|██████████| 938/938 [00:22<00:00, 42.40it/s]\n"
          ]
        },
        {
          "output_type": "stream",
          "name": "stdout",
          "text": [
            "Epoch 13 training accuracy: 86.47% training loss: 0.00564\n",
            "Epoch 13 validation accuracy: 89.14% validation loss: 0.00477\n"
          ]
        },
        {
          "output_type": "stream",
          "name": "stderr",
          "text": [
            "100%|██████████| 938/938 [00:21<00:00, 42.74it/s]\n"
          ]
        },
        {
          "output_type": "stream",
          "name": "stdout",
          "text": [
            "Epoch 14 training accuracy: 86.65% training loss: 0.00555\n",
            "Epoch 14 validation accuracy: 88.55% validation loss: 0.00497\n"
          ]
        },
        {
          "output_type": "stream",
          "name": "stderr",
          "text": [
            "100%|██████████| 938/938 [00:21<00:00, 43.21it/s]\n"
          ]
        },
        {
          "output_type": "stream",
          "name": "stdout",
          "text": [
            "Epoch 15 training accuracy: 86.77% training loss: 0.00554\n",
            "Epoch 15 validation accuracy: 89.50% validation loss: 0.00464\n"
          ]
        },
        {
          "output_type": "stream",
          "name": "stderr",
          "text": [
            "100%|██████████| 938/938 [00:21<00:00, 43.85it/s]\n"
          ]
        },
        {
          "output_type": "stream",
          "name": "stdout",
          "text": [
            "Epoch 16 training accuracy: 87.08% training loss: 0.00543\n",
            "Epoch 16 validation accuracy: 89.50% validation loss: 0.00459\n"
          ]
        },
        {
          "output_type": "stream",
          "name": "stderr",
          "text": [
            "100%|██████████| 938/938 [00:22<00:00, 42.20it/s]\n"
          ]
        },
        {
          "output_type": "stream",
          "name": "stdout",
          "text": [
            "Epoch 17 training accuracy: 87.12% training loss: 0.00535\n",
            "Epoch 17 validation accuracy: 89.25% validation loss: 0.00459\n"
          ]
        },
        {
          "output_type": "stream",
          "name": "stderr",
          "text": [
            "100%|██████████| 938/938 [00:21<00:00, 43.14it/s]\n"
          ]
        },
        {
          "output_type": "stream",
          "name": "stdout",
          "text": [
            "Epoch 18 training accuracy: 87.19% training loss: 0.00533\n",
            "Epoch 18 validation accuracy: 89.31% validation loss: 0.00456\n"
          ]
        },
        {
          "output_type": "stream",
          "name": "stderr",
          "text": [
            "100%|██████████| 938/938 [00:21<00:00, 43.86it/s]\n"
          ]
        },
        {
          "output_type": "stream",
          "name": "stdout",
          "text": [
            "Epoch 19 training accuracy: 87.32% training loss: 0.00530\n",
            "Epoch 19 validation accuracy: 89.83% validation loss: 0.00434\n"
          ]
        },
        {
          "output_type": "stream",
          "name": "stderr",
          "text": [
            "100%|██████████| 938/938 [00:21<00:00, 43.39it/s]\n"
          ]
        },
        {
          "output_type": "stream",
          "name": "stdout",
          "text": [
            "Epoch 20 training accuracy: 87.49% training loss: 0.00520\n",
            "Epoch 20 validation accuracy: 89.43% validation loss: 0.00465\n"
          ]
        },
        {
          "output_type": "stream",
          "name": "stderr",
          "text": [
            "100%|██████████| 938/938 [00:21<00:00, 43.23it/s]\n"
          ]
        },
        {
          "output_type": "stream",
          "name": "stdout",
          "text": [
            "Epoch 21 training accuracy: 87.50% training loss: 0.00517\n",
            "Epoch 21 validation accuracy: 90.04% validation loss: 0.00440\n"
          ]
        },
        {
          "output_type": "stream",
          "name": "stderr",
          "text": [
            "100%|██████████| 938/938 [00:22<00:00, 42.56it/s]\n"
          ]
        },
        {
          "output_type": "stream",
          "name": "stdout",
          "text": [
            "Epoch 22 training accuracy: 87.66% training loss: 0.00520\n",
            "Epoch 22 validation accuracy: 90.28% validation loss: 0.00430\n"
          ]
        },
        {
          "output_type": "stream",
          "name": "stderr",
          "text": [
            "100%|██████████| 938/938 [00:21<00:00, 43.24it/s]\n"
          ]
        },
        {
          "output_type": "stream",
          "name": "stdout",
          "text": [
            "Epoch 23 training accuracy: 87.70% training loss: 0.00514\n",
            "Epoch 23 validation accuracy: 90.13% validation loss: 0.00426\n"
          ]
        },
        {
          "output_type": "stream",
          "name": "stderr",
          "text": [
            "100%|██████████| 938/938 [00:21<00:00, 43.94it/s]\n"
          ]
        },
        {
          "output_type": "stream",
          "name": "stdout",
          "text": [
            "Epoch 24 training accuracy: 87.92% training loss: 0.00505\n",
            "Epoch 24 validation accuracy: 89.87% validation loss: 0.00434\n"
          ]
        },
        {
          "output_type": "stream",
          "name": "stderr",
          "text": [
            "100%|██████████| 938/938 [00:21<00:00, 44.21it/s]\n"
          ]
        },
        {
          "output_type": "stream",
          "name": "stdout",
          "text": [
            "Epoch 25 training accuracy: 87.65% training loss: 0.00509\n",
            "Epoch 25 validation accuracy: 90.34% validation loss: 0.00433\n"
          ]
        },
        {
          "output_type": "stream",
          "name": "stderr",
          "text": [
            "100%|██████████| 938/938 [00:21<00:00, 43.93it/s]\n"
          ]
        },
        {
          "output_type": "stream",
          "name": "stdout",
          "text": [
            "Epoch 26 training accuracy: 87.81% training loss: 0.00506\n",
            "Epoch 26 validation accuracy: 90.08% validation loss: 0.00425\n"
          ]
        },
        {
          "output_type": "stream",
          "name": "stderr",
          "text": [
            "100%|██████████| 938/938 [00:21<00:00, 44.00it/s]\n"
          ]
        },
        {
          "output_type": "stream",
          "name": "stdout",
          "text": [
            "Epoch 27 training accuracy: 87.88% training loss: 0.00502\n",
            "Epoch 27 validation accuracy: 89.91% validation loss: 0.00433\n"
          ]
        },
        {
          "output_type": "stream",
          "name": "stderr",
          "text": [
            "100%|██████████| 938/938 [00:21<00:00, 42.82it/s]\n"
          ]
        },
        {
          "output_type": "stream",
          "name": "stdout",
          "text": [
            "Epoch 28 training accuracy: 87.95% training loss: 0.00498\n",
            "Epoch 28 validation accuracy: 89.55% validation loss: 0.00453\n"
          ]
        },
        {
          "output_type": "stream",
          "name": "stderr",
          "text": [
            "100%|██████████| 938/938 [00:21<00:00, 44.19it/s]\n"
          ]
        },
        {
          "output_type": "stream",
          "name": "stdout",
          "text": [
            "Epoch 29 training accuracy: 88.03% training loss: 0.00501\n",
            "Epoch 29 validation accuracy: 89.88% validation loss: 0.00436\n"
          ]
        },
        {
          "output_type": "stream",
          "name": "stderr",
          "text": [
            "100%|██████████| 938/938 [00:21<00:00, 44.02it/s]\n"
          ]
        },
        {
          "output_type": "stream",
          "name": "stdout",
          "text": [
            "Epoch 30 training accuracy: 88.23% training loss: 0.00488\n",
            "Epoch 30 validation accuracy: 90.20% validation loss: 0.00433\n"
          ]
        }
      ],
      "source": [
        "training_loss_history_cnn, val_loss_history_cnn, training_acc_history_cnn, val_acc_history_cnn = training_loop(cnn, learning_rate=0.001, num_epochs=30)"
      ]
    },
    {
      "cell_type": "markdown",
      "metadata": {
        "id": "8GH4IwUEkHLu"
      },
      "source": [
        "### Training on MLP  "
      ]
    },
    {
      "cell_type": "markdown",
      "metadata": {
        "id": "1NnjpIpFKn5L"
      },
      "source": [
        "# Visualizing Loss and Model Accuracy "
      ]
    },
    {
      "cell_type": "code",
      "execution_count": 77,
      "metadata": {
        "colab": {
          "base_uri": "https://localhost:8080/",
          "height": 787
        },
        "id": "uKOQrycxl6CM",
        "outputId": "3c3808fa-eea2-494f-cf75-6f9d6a61274a"
      },
      "outputs": [
        {
          "output_type": "display_data",
          "data": {
            "text/plain": [
              "<Figure size 1080x864 with 2 Axes>"
            ],
            "image/png": "[encoded data removed]"
          },
          "metadata": {
            "needs_background": "light"
          }
        }
      ],
      "source": [
        "fig, ((ax1, ax2)) = plt.subplots(2, 1, sharex=True, figsize=(15,12))\n",
        "fig.suptitle('Fashion MNIST Recognition - CNN \\n Optimizer: Adam \\nlearning rate: '+ format(learning_rate))\n",
        "\n",
        "# CNN Model Loss \n",
        "ax1.plot(training_loss_history_cnn, label=\"Training Loss\")\n",
        "ax1.plot(val_loss_history_cnn, label=\"Validation Loss\")\n",
        "ax1.title.set_text('CNN - Training vs Validation loss')\n",
        "ax1.legend()\n",
        "\n",
        "# CNN Model Accuracy \n",
        "ax2.plot(training_acc_history_cnn, label=\"Training Accuracy\")\n",
        "ax2.plot(val_acc_history_cnn, label=\"Validation Accuracy\")\n",
        "ax2.title.set_text('CNN - Training vs Validation Accuracy (%)')\n",
        "ax2.legend()\n",
        "\n",
        "\n",
        "for ax in fig.get_axes():\n",
        "    ax.label_outer()\n"
      ]
    },
    {
      "cell_type": "code",
      "execution_count": null,
      "metadata": {
        "id": "f49IaDG4sGxL"
      },
      "outputs": [],
      "source": []
    }
  ],
  "metadata": {
    "colab": {
      "provenance": [],
      "include_colab_link": true
    },
    "gpuClass": "standard",
    "kernelspec": {
      "display_name": "Python 3",
      "name": "python3"
    },
    "language_info": {
      "name": "python"
    },
    "accelerator": "GPU"
  },
  "nbformat": 4,
  "nbformat_minor": 0
}